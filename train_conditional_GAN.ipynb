{
 "cells": [
  {
   "cell_type": "code",
   "execution_count": 1,
   "metadata": {},
   "outputs": [
    {
     "name": "stderr",
     "output_type": "stream",
     "text": [
      "/workspace/qing/miniconda3/envs/pytorch/lib/python3.10/site-packages/tqdm/auto.py:21: TqdmWarning: IProgress not found. Please update jupyter and ipywidgets. See https://ipywidgets.readthedocs.io/en/stable/user_install.html\n",
      "  from .autonotebook import tqdm as notebook_tqdm\n"
     ]
    }
   ],
   "source": [
    "import torch\n",
    "from torch.utils.data import TensorDataset, DataLoader\n",
    "from torch import optim\n",
    "from torch.autograd import Variable\n",
    "import numpy as np\n",
    "import matplotlib.pyplot as plt\n",
    "from conditional_GAN import Generator, Discriminator, generator_loss, discriminator_loss"
   ]
  },
  {
   "cell_type": "code",
   "execution_count": 2,
   "metadata": {},
   "outputs": [
    {
     "name": "stdout",
     "output_type": "stream",
     "text": [
      "torch.Size([60000, 3, 28, 28]) torch.Size([10000, 3, 28, 28])\n",
      "torch.Size([60000, 7]) torch.Size([10000, 7])\n"
     ]
    }
   ],
   "source": [
    "path = \"../mnist/cmnist/fgbg_cmnist_cpr0.5-0.5/\"\n",
    "mnist_train = torch.from_numpy(np.load(path + \"colored_mnist_init_train.npy\"))\n",
    "mnist_test = torch.from_numpy(np.load(path + \"colored_mnist_init_test.npy\"))\n",
    "mnist_train_target = torch.from_numpy(np.load(path + \"colored_mnist_target_train.npy\"))\n",
    "mnist_test_target = torch.from_numpy(np.load(path + \"colored_mnist_target_test.npy\"))\n",
    "\n",
    "print(mnist_train.shape, mnist_test.shape)\n",
    "print(mnist_train_target.shape, mnist_test_target.shape)\n",
    "\n",
    "batch_size = 128\n",
    "train_dataset = TensorDataset(mnist_train, mnist_train_target)\n",
    "train_loader = DataLoader(train_dataset, batch_size=batch_size)\n",
    "test_dataset = TensorDataset(mnist_test, mnist_test_target)\n",
    "test_loader = DataLoader(test_dataset, batch_size=batch_size)"
   ]
  },
  {
   "cell_type": "code",
   "execution_count": 3,
   "metadata": {},
   "outputs": [
    {
     "data": {
      "image/png": "[encoded data removed]",
      "text/plain": [
       "<Figure size 640x480 with 1 Axes>"
      ]
     },
     "metadata": {},
     "output_type": "display_data"
    }
   ],
   "source": [
    "plt.imshow(mnist_train[4].permute(1, 2, 0))\n",
    "plt.show()"
   ]
  },
  {
   "cell_type": "code",
   "execution_count": 4,
   "metadata": {},
   "outputs": [
    {
     "name": "stdout",
     "output_type": "stream",
     "text": [
      "Selected device: cuda\n"
     ]
    }
   ],
   "source": [
    "torch.manual_seed(0)\n",
    "\n",
    "device = torch.device(\"cuda\") if torch.cuda.is_available() else torch.device(\"cpu\")\n",
    "print(f\"Selected device: {device}\")\n",
    "\n",
    "latent_dim = 128\n",
    "generator = Generator(latent_dim=latent_dim, label_dim=7)\n",
    "generator.to(device)\n",
    "discriminator = Discriminator(label_dim=7)\n",
    "discriminator.to(device)\n",
    "\n",
    "G_optimizer = optim.Adam(generator.parameters(), lr=1e-3)\n",
    "D_optimizer = optim.Adam(discriminator.parameters(), lr=1e-3)"
   ]
  },
  {
   "cell_type": "code",
   "execution_count": 7,
   "metadata": {},
   "outputs": [
    {
     "name": "stdout",
     "output_type": "stream",
     "text": [
      "Generator loss: 11.993556381542799, Discriminator loss: 0.0065192697980695396\n",
      "Generator loss: 13.472642823323003, Discriminator loss: 1.5995110385189726e-05\n",
      "Generator loss: 14.077028339605596, Discriminator loss: 6.122809661408063e-06\n",
      "Generator loss: 14.659864765240439, Discriminator loss: 3.130502175897138e-06\n",
      "Generator loss: 15.187331925577192, Discriminator loss: 1.6507026822882584e-06\n",
      "Generator loss: 15.640539364519912, Discriminator loss: 9.566222028974277e-07\n",
      "Generator loss: 15.808340099066305, Discriminator loss: 7.3504693111428e-07\n",
      "Generator loss: 16.186379093096964, Discriminator loss: 5.592414615774086e-07\n",
      "Generator loss: 16.540191453148815, Discriminator loss: 3.927532136729958e-07\n",
      "Generator loss: 16.869134351897088, Discriminator loss: 2.8318015741468945e-07\n"
     ]
    }
   ],
   "source": [
    "num_epochs = 10\n",
    "for epoch in range(1, num_epochs + 1):\n",
    "    generator.train()\n",
    "    discriminator.train()\n",
    "    average_D_loss, average_G_loss = 0, 0\n",
    "\n",
    "    for index, (real_images, labels) in enumerate(train_loader):\n",
    "        D_optimizer.zero_grad()\n",
    "        G_optimizer.zero_grad()\n",
    "\n",
    "        real_images = real_images.to(device)\n",
    "        labels = labels.to(device)\n",
    "\n",
    "        real_target = Variable(torch.ones(real_images.shape[0], device=device))\n",
    "        fake_target = Variable(torch.zeros(real_images.shape[0], device=device))\n",
    "\n",
    "        D_real_loss = discriminator_loss(\n",
    "            discriminator(real_images, labels), real_target\n",
    "        )\n",
    "\n",
    "        noise_vector = torch.randn(real_images.shape[0], latent_dim, 1, 1, device=device)\n",
    "        fake_labels = Variable(torch.randint(0, 9, (labels.shape[0], 7), device=device, dtype=torch.float))\n",
    "\n",
    "        generated_image = generator(noise_vector, labels)\n",
    "        output = discriminator(generated_image.detach(), fake_labels)\n",
    "        D_fake_loss = discriminator_loss(output, fake_target)\n",
    "\n",
    "        D_total_loss = (D_real_loss + D_fake_loss)\n",
    "        average_D_loss += D_total_loss.item()\n",
    "\n",
    "        D_total_loss.backward()\n",
    "        D_optimizer.step()\n",
    "\n",
    "        # Train generator with real labels\n",
    "        G_loss = generator_loss(discriminator(generated_image, fake_labels), real_target)\n",
    "        average_G_loss += G_loss.item()\n",
    "\n",
    "        G_loss.backward()\n",
    "        G_optimizer.step()\n",
    "\n",
    "    average_G_loss = average_G_loss / len(train_loader)\n",
    "    average_D_loss = average_D_loss / len(train_loader)\n",
    "    print(\n",
    "        \"Generator loss: {}, Discriminator loss: {}\".format(\n",
    "            average_G_loss, average_D_loss\n",
    "        )\n",
    "    )"
   ]
  },
  {
   "cell_type": "code",
   "execution_count": 9,
   "metadata": {},
   "outputs": [
    {
     "data": {
      "image/png": "[encoded data removed]",
      "text/plain": [
       "<Figure size 640x480 with 1 Axes>"
      ]
     },
     "metadata": {},
     "output_type": "display_data"
    }
   ],
   "source": [
    "generator.eval()\n",
    "with torch.no_grad():\n",
    "    noise_vector = torch.randn(1, latent_dim, 1, 1, device=device)\n",
    "    generated_image = generator(\n",
    "        noise_vector, mnist_train_target[0, :].unsqueeze(0).to(device)\n",
    "    )\n",
    "    plt.imshow(generated_image.cpu().squeeze().permute(1, 2, 0))"
   ]
  }
 ],
 "metadata": {
  "kernelspec": {
   "display_name": "data_science",
   "language": "python",
   "name": "python3"
  },
  "language_info": {
   "codemirror_mode": {
    "name": "ipython",
    "version": 3
   },
   "file_extension": ".py",
   "mimetype": "text/x-python",
   "name": "python",
   "nbconvert_exporter": "python",
   "pygments_lexer": "ipython3",
   "version": "3.10.11"
  },
  "orig_nbformat": 4
 },
 "nbformat": 4,
 "nbformat_minor": 2
}
