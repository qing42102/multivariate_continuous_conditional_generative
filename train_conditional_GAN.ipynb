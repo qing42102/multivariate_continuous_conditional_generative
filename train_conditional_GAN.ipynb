{
 "cells": [
  {
   "cell_type": "code",
   "execution_count": 1,
   "metadata": {},
   "outputs": [
    {
     "name": "stderr",
     "output_type": "stream",
     "text": [
      "2023-07-06 18:19:46.198039: I tensorflow/core/platform/cpu_feature_guard.cc:193] This TensorFlow binary is optimized with oneAPI Deep Neural Network Library (oneDNN) to use the following CPU instructions in performance-critical operations:  SSE4.1 SSE4.2 AVX AVX2 AVX512F AVX512_VNNI FMA\n",
      "To enable them in other operations, rebuild TensorFlow with the appropriate compiler flags.\n",
      "2023-07-06 18:19:46.292397: I tensorflow/core/util/util.cc:169] oneDNN custom operations are on. You may see slightly different numerical results due to floating-point round-off errors from different computation orders. To turn them off, set the environment variable `TF_ENABLE_ONEDNN_OPTS=0`.\n"
     ]
    }
   ],
   "source": [
    "import tensorflow as tf\n",
    "import keras.api._v2.keras as keras\n",
    "from keras import mixed_precision\n",
    "import numpy as np\n",
    "import matplotlib.pyplot as plt\n",
    "from conditional_GAN import WGAN, Generator, Discriminator"
   ]
  },
  {
   "cell_type": "code",
   "execution_count": 2,
   "metadata": {},
   "outputs": [
    {
     "name": "stdout",
     "output_type": "stream",
     "text": [
      "[PhysicalDevice(name='/physical_device:GPU:0', device_type='GPU'), PhysicalDevice(name='/physical_device:GPU:1', device_type='GPU')]\n"
     ]
    }
   ],
   "source": [
    "gpus = tf.config.list_physical_devices(\"GPU\")\n",
    "print(gpus)\n",
    "\n",
    "for gpu in gpus:\n",
    "    tf.config.experimental.set_memory_growth(gpu, True)\n",
    "\n",
    "# mirrored_strategy = tf.distribute.MirroredStrategy()\n",
    "\n",
    "# mixed_precision.set_global_policy('mixed_float16')"
   ]
  },
  {
   "cell_type": "code",
   "execution_count": 3,
   "metadata": {},
   "outputs": [
    {
     "name": "stderr",
     "output_type": "stream",
     "text": [
      "2023-07-06 18:19:48.326646: I tensorflow/core/platform/cpu_feature_guard.cc:193] This TensorFlow binary is optimized with oneAPI Deep Neural Network Library (oneDNN) to use the following CPU instructions in performance-critical operations:  SSE4.1 SSE4.2 AVX AVX2 AVX512F AVX512_VNNI FMA\n",
      "To enable them in other operations, rebuild TensorFlow with the appropriate compiler flags.\n",
      "2023-07-06 18:19:48.824664: I tensorflow/core/common_runtime/gpu/gpu_device.cc:1616] Created device /job:localhost/replica:0/task:0/device:GPU:0 with 36656 MB memory:  -> device: 0, name: NVIDIA A100-PCIE-40GB, pci bus id: 0000:3b:00.0, compute capability: 8.0\n",
      "2023-07-06 18:19:48.826875: I tensorflow/core/common_runtime/gpu/gpu_device.cc:1616] Created device /job:localhost/replica:0/task:0/device:GPU:1 with 33816 MB memory:  -> device: 1, name: NVIDIA A100-PCIE-40GB, pci bus id: 0000:d8:00.0, compute capability: 8.0\n"
     ]
    },
    {
     "name": "stdout",
     "output_type": "stream",
     "text": [
      "(60000, 28, 28, 3) (10000, 28, 28, 3)\n",
      "(60000, 7) (10000, 7)\n"
     ]
    }
   ],
   "source": [
    "path = \"../mnist/cmnist/fgbg_cmnist_cpr0.5-0.5/\"\n",
    "mnist_train = tf.convert_to_tensor(np.load(path + \"colored_mnist_init_train.npy\"))\n",
    "mnist_test = tf.convert_to_tensor(np.load(path + \"colored_mnist_init_test.npy\"))\n",
    "mnist_train_target = tf.convert_to_tensor(\n",
    "    np.load(path + \"colored_mnist_target_train.npy\")\n",
    ")\n",
    "mnist_test_target = tf.convert_to_tensor(\n",
    "    np.load(path + \"colored_mnist_target_test.npy\")\n",
    ")\n",
    "\n",
    "mnist_train = tf.transpose(mnist_train, [0, 2, 3, 1])\n",
    "mnist_test = tf.transpose(mnist_test, [0, 2, 3, 1])\n",
    "\n",
    "print(mnist_train.shape, mnist_test.shape)\n",
    "print(mnist_train_target.shape, mnist_test_target.shape)\n",
    "\n",
    "train_data = tf.data.Dataset.from_tensor_slices(mnist_train)\n",
    "\n",
    "batch_size = 128\n",
    "train_data = train_data.shuffle(10000).batch(batch_size)"
   ]
  },
  {
   "cell_type": "code",
   "execution_count": 4,
   "metadata": {},
   "outputs": [
    {
     "data": {
      "image/png": "[encoded data removed]",
      "text/plain": [
       "<Figure size 640x480 with 1 Axes>"
      ]
     },
     "metadata": {},
     "output_type": "display_data"
    }
   ],
   "source": [
    "plt.figure(1)\n",
    "plt.imshow(mnist_train[0, :, :, :])\n",
    "plt.axis(\"off\")\n",
    "plt.show()"
   ]
  },
  {
   "cell_type": "code",
   "execution_count": 5,
   "metadata": {},
   "outputs": [
    {
     "name": "stdout",
     "output_type": "stream",
     "text": [
      "Model: \"discriminator\"\n",
      "_________________________________________________________________\n",
      " Layer (type)                Output Shape              Param #   \n",
      "=================================================================\n",
      " conv2d (Conv2D)             (None, 14, 14, 64)        3136      \n",
      "                                                                 \n",
      " leaky_re_lu (LeakyReLU)     (None, 14, 14, 64)        0         \n",
      "                                                                 \n",
      " conv2d_1 (Conv2D)           (None, 7, 7, 128)         131200    \n",
      "                                                                 \n",
      " leaky_re_lu_1 (LeakyReLU)   (None, 7, 7, 128)         0         \n",
      "                                                                 \n",
      " conv2d_2 (Conv2D)           (None, 4, 4, 256)         524544    \n",
      "                                                                 \n",
      " leaky_re_lu_2 (LeakyReLU)   (None, 4, 4, 256)         0         \n",
      "                                                                 \n",
      " conv2d_3 (Conv2D)           (None, 2, 2, 512)         2097664   \n",
      "                                                                 \n"
     ]
    },
    {
     "name": "stdout",
     "output_type": "stream",
     "text": [
      " leaky_re_lu_3 (LeakyReLU)   (None, 2, 2, 512)         0         \n",
      "                                                                 \n",
      " flatten (Flatten)           (None, 2048)              0         \n",
      "                                                                 \n",
      " dropout (Dropout)           (None, 2048)              0         \n",
      "                                                                 \n",
      " dense (Dense)               (None, 1)                 2049      \n",
      "                                                                 \n",
      "=================================================================\n",
      "Total params: 2,758,593\n",
      "Trainable params: 2,758,593\n",
      "Non-trainable params: 0\n",
      "_________________________________________________________________\n"
     ]
    }
   ],
   "source": [
    "discriminator = Discriminator(shape=(28, 28, 3))\n",
    "discriminator.model.summary()"
   ]
  },
  {
   "cell_type": "code",
   "execution_count": 6,
   "metadata": {},
   "outputs": [
    {
     "name": "stdout",
     "output_type": "stream",
     "text": [
      "Model: \"generator\"\n",
      "_________________________________________________________________\n",
      " Layer (type)                Output Shape              Param #   \n",
      "=================================================================\n",
      " dense_1 (Dense)             (None, 1024)              132096    \n",
      "                                                                 \n",
      " batch_normalization (BatchN  (None, 1024)             4096      \n",
      " ormalization)                                                   \n",
      "                                                                 \n",
      " leaky_re_lu_4 (LeakyReLU)   (None, 1024)              0         \n",
      "                                                                 \n",
      " reshape (Reshape)           (None, 2, 2, 256)         0         \n",
      "                                                                 \n",
      " up_sampling2d (UpSampling2D  (None, 4, 4, 256)        0         \n",
      " )                                                               \n",
      "                                                                 \n",
      " conv2d_4 (Conv2D)           (None, 4, 4, 256)         590080    \n",
      "                                                                 \n",
      " batch_normalization_1 (Batc  (None, 4, 4, 256)        1024      \n",
      " hNormalization)                                                 \n",
      "                                                                 \n",
      " leaky_re_lu_5 (LeakyReLU)   (None, 4, 4, 256)         0         \n",
      "                                                                 \n",
      " up_sampling2d_1 (UpSampling  (None, 8, 8, 256)        0         \n",
      " 2D)                                                             \n",
      "                                                                 \n",
      " conv2d_5 (Conv2D)           (None, 8, 8, 128)         295040    \n",
      "                                                                 \n",
      " batch_normalization_2 (Batc  (None, 8, 8, 128)        512       \n",
      " hNormalization)                                                 \n",
      "                                                                 \n",
      " leaky_re_lu_6 (LeakyReLU)   (None, 8, 8, 128)         0         \n",
      "                                                                 \n",
      " up_sampling2d_2 (UpSampling  (None, 16, 16, 128)      0         \n",
      " 2D)                                                             \n",
      "                                                                 \n",
      " conv2d_6 (Conv2D)           (None, 14, 14, 64)        73792     \n",
      "                                                                 \n",
      " batch_normalization_3 (Batc  (None, 14, 14, 64)       256       \n",
      " hNormalization)                                                 \n",
      "                                                                 \n",
      " leaky_re_lu_7 (LeakyReLU)   (None, 14, 14, 64)        0         \n",
      "                                                                 \n",
      " up_sampling2d_3 (UpSampling  (None, 28, 28, 64)       0         \n",
      " 2D)                                                             \n",
      "                                                                 \n",
      " conv2d_7 (Conv2D)           (None, 28, 28, 3)         1731      \n",
      "                                                                 \n",
      "=================================================================\n",
      "Total params: 1,098,627\n",
      "Trainable params: 1,095,683\n",
      "Non-trainable params: 2,944\n",
      "_________________________________________________________________\n"
     ]
    }
   ],
   "source": [
    "latent_dim = 128\n",
    "\n",
    "generator = Generator(latent_dim=latent_dim)\n",
    "generator.model.summary()"
   ]
  },
  {
   "cell_type": "code",
   "execution_count": 7,
   "metadata": {},
   "outputs": [],
   "source": [
    "# Define the loss functions for the discriminator,\n",
    "# which should be (fake_loss - real_loss).\n",
    "# We will add the gradient penalty later to this loss function.\n",
    "def discriminator_loss(real_img, fake_img):\n",
    "    real_loss = tf.reduce_mean(real_img)\n",
    "    fake_loss = tf.reduce_mean(fake_img)\n",
    "    return fake_loss - real_loss\n",
    "\n",
    "\n",
    "# Define the loss functions for the generator.\n",
    "def generator_loss(fake_img):\n",
    "    return -tf.reduce_mean(fake_img)"
   ]
  },
  {
   "cell_type": "code",
   "execution_count": 8,
   "metadata": {},
   "outputs": [
    {
     "name": "stdout",
     "output_type": "stream",
     "text": [
      "Epoch 1/50\n"
     ]
    },
    {
     "name": "stderr",
     "output_type": "stream",
     "text": [
      "2023-07-06 18:20:21.186812: I tensorflow/stream_executor/cuda/cuda_dnn.cc:384] Loaded cuDNN version 8800\n",
      "2023-07-06 18:20:21.427637: I tensorflow/stream_executor/cuda/cuda_blas.cc:1614] TensorFloat-32 will be used for the matrix multiplication. This will only be logged once.\n"
     ]
    },
    {
     "name": "stdout",
     "output_type": "stream",
     "text": [
      "469/469 [==============================] - 34s 58ms/step - d_loss: -5.5476 - g_loss: 1.3452\n",
      "Epoch 2/50\n",
      "469/469 [==============================] - 27s 57ms/step - d_loss: -6.0519 - g_loss: 6.3281\n",
      "Epoch 3/50\n",
      "469/469 [==============================] - 27s 57ms/step - d_loss: -6.2340 - g_loss: 6.8692\n",
      "Epoch 4/50\n",
      "469/469 [==============================] - 27s 57ms/step - d_loss: -6.3172 - g_loss: 7.7949\n",
      "Epoch 5/50\n",
      "469/469 [==============================] - 27s 57ms/step - d_loss: -6.3001 - g_loss: 8.9479\n",
      "Epoch 6/50\n",
      "469/469 [==============================] - 26s 56ms/step - d_loss: -6.2772 - g_loss: 7.8414\n",
      "Epoch 7/50\n",
      "469/469 [==============================] - 27s 57ms/step - d_loss: -6.2490 - g_loss: 5.7009\n",
      "Epoch 8/50\n",
      "469/469 [==============================] - 27s 58ms/step - d_loss: -6.1307 - g_loss: 5.2699\n",
      "Epoch 9/50\n",
      "469/469 [==============================] - 27s 57ms/step - d_loss: -6.0960 - g_loss: 5.1198\n",
      "Epoch 10/50\n",
      "469/469 [==============================] - 26s 55ms/step - d_loss: -5.9669 - g_loss: 4.4165\n",
      "Epoch 11/50\n",
      "469/469 [==============================] - 26s 55ms/step - d_loss: -5.9127 - g_loss: 5.2385\n",
      "Epoch 12/50\n",
      "469/469 [==============================] - 27s 58ms/step - d_loss: -5.9560 - g_loss: 4.0225\n",
      "Epoch 13/50\n",
      "469/469 [==============================] - 26s 56ms/step - d_loss: -5.7954 - g_loss: 5.5619\n",
      "Epoch 14/50\n",
      "469/469 [==============================] - 26s 55ms/step - d_loss: -5.6818 - g_loss: 6.0476\n",
      "Epoch 15/50\n",
      "469/469 [==============================] - 27s 57ms/step - d_loss: -5.5545 - g_loss: 5.8528\n",
      "Epoch 16/50\n",
      "469/469 [==============================] - 26s 55ms/step - d_loss: -5.5631 - g_loss: 4.0145\n",
      "Epoch 17/50\n",
      "469/469 [==============================] - 26s 56ms/step - d_loss: -5.5159 - g_loss: 3.4797\n",
      "Epoch 18/50\n",
      "469/469 [==============================] - 26s 55ms/step - d_loss: -5.4176 - g_loss: 4.0002\n",
      "Epoch 19/50\n",
      "469/469 [==============================] - 26s 56ms/step - d_loss: -5.3131 - g_loss: 2.8414\n",
      "Epoch 20/50\n",
      "469/469 [==============================] - 26s 55ms/step - d_loss: -5.2819 - g_loss: 1.8730\n",
      "Epoch 21/50\n",
      "469/469 [==============================] - 26s 55ms/step - d_loss: -5.2607 - g_loss: 0.9475\n",
      "Epoch 22/50\n",
      "469/469 [==============================] - 26s 56ms/step - d_loss: -5.2196 - g_loss: 1.3932\n",
      "Epoch 23/50\n",
      "469/469 [==============================] - 26s 55ms/step - d_loss: -5.1065 - g_loss: 1.4255\n",
      "Epoch 24/50\n",
      "469/469 [==============================] - 26s 55ms/step - d_loss: -5.0209 - g_loss: 0.6096\n",
      "Epoch 25/50\n",
      "469/469 [==============================] - 26s 56ms/step - d_loss: -5.0063 - g_loss: 0.6847\n",
      "Epoch 26/50\n",
      "469/469 [==============================] - 26s 56ms/step - d_loss: -5.0262 - g_loss: 0.7086\n",
      "Epoch 27/50\n",
      "469/469 [==============================] - 26s 56ms/step - d_loss: -4.9297 - g_loss: -0.6544\n",
      "Epoch 28/50\n",
      "469/469 [==============================] - 27s 58ms/step - d_loss: -4.8786 - g_loss: -0.9049\n",
      "Epoch 29/50\n",
      "469/469 [==============================] - 27s 57ms/step - d_loss: -4.8530 - g_loss: 0.1880\n",
      "Epoch 30/50\n",
      "469/469 [==============================] - 27s 58ms/step - d_loss: -4.8041 - g_loss: 0.3710\n",
      "Epoch 31/50\n",
      "469/469 [==============================] - 27s 57ms/step - d_loss: -4.7089 - g_loss: 0.3039\n",
      "Epoch 32/50\n",
      "469/469 [==============================] - 27s 57ms/step - d_loss: -4.6810 - g_loss: -0.4843\n",
      "Epoch 33/50\n",
      "469/469 [==============================] - 27s 57ms/step - d_loss: -4.6464 - g_loss: -0.5182\n",
      "Epoch 34/50\n",
      "469/469 [==============================] - 26s 55ms/step - d_loss: -4.6231 - g_loss: 0.0561\n",
      "Epoch 35/50\n",
      "469/469 [==============================] - 26s 55ms/step - d_loss: -4.6106 - g_loss: -0.1760\n",
      "Epoch 36/50\n",
      "469/469 [==============================] - 26s 55ms/step - d_loss: -4.4934 - g_loss: -0.9240\n",
      "Epoch 37/50\n",
      "469/469 [==============================] - 27s 57ms/step - d_loss: -4.4823 - g_loss: -1.5533\n",
      "Epoch 38/50\n",
      "469/469 [==============================] - 26s 56ms/step - d_loss: -4.3978 - g_loss: -1.2807\n",
      "Epoch 39/50\n",
      "469/469 [==============================] - 26s 55ms/step - d_loss: -4.3307 - g_loss: -1.7425\n",
      "Epoch 40/50\n",
      "469/469 [==============================] - 26s 55ms/step - d_loss: -4.3543 - g_loss: -1.5899\n",
      "Epoch 41/50\n",
      "469/469 [==============================] - 27s 58ms/step - d_loss: -4.3534 - g_loss: -1.1661\n",
      "Epoch 42/50\n",
      "469/469 [==============================] - 26s 55ms/step - d_loss: -4.3135 - g_loss: -1.1088\n",
      "Epoch 43/50\n",
      "469/469 [==============================] - 27s 58ms/step - d_loss: -4.2737 - g_loss: -0.7130\n",
      "Epoch 44/50\n",
      "469/469 [==============================] - 27s 58ms/step - d_loss: -4.2630 - g_loss: -1.0248\n",
      "Epoch 45/50\n",
      "469/469 [==============================] - 27s 58ms/step - d_loss: -4.2329 - g_loss: -1.2291\n",
      "Epoch 46/50\n",
      "469/469 [==============================] - 26s 56ms/step - d_loss: -4.2291 - g_loss: -1.8621\n",
      "Epoch 47/50\n",
      "469/469 [==============================] - 27s 58ms/step - d_loss: -4.1983 - g_loss: -0.8530\n",
      "Epoch 48/50\n",
      "469/469 [==============================] - 27s 57ms/step - d_loss: -4.1050 - g_loss: -1.1289\n",
      "Epoch 49/50\n",
      "469/469 [==============================] - 26s 55ms/step - d_loss: -4.1203 - g_loss: -1.0604\n",
      "Epoch 50/50\n",
      "469/469 [==============================] - 26s 56ms/step - d_loss: -4.1297 - g_loss: -0.9398\n"
     ]
    },
    {
     "data": {
      "text/plain": [
       "<keras.callbacks.History at 0x7f861bfc3160>"
      ]
     },
     "execution_count": 8,
     "metadata": {},
     "output_type": "execute_result"
    }
   ],
   "source": [
    "# Instantiate the optimizer for both networks\n",
    "# (learning_rate=0.0002, beta_1=0.5 are recommended)\n",
    "generator_optimizer = keras.optimizers.Adam(\n",
    "    learning_rate=0.0002, beta_1=0.5, beta_2=0.9\n",
    ")\n",
    "discriminator_optimizer = keras.optimizers.Adam(\n",
    "    learning_rate=0.0002, beta_1=0.5, beta_2=0.9\n",
    ")\n",
    "\n",
    "wgan = WGAN(\n",
    "    discriminator=discriminator,\n",
    "    generator=generator,\n",
    "    latent_dim=latent_dim,\n",
    "    discriminator_extra_steps=5,\n",
    ")\n",
    "\n",
    "wgan.compile(\n",
    "    d_optimizer=discriminator_optimizer,\n",
    "    g_optimizer=generator_optimizer,\n",
    "    g_loss_fn=generator_loss,\n",
    "    d_loss_fn=discriminator_loss,\n",
    ")\n",
    "\n",
    "epochs = 50\n",
    "wgan.fit(train_data, epochs=epochs)"
   ]
  },
  {
   "cell_type": "code",
   "execution_count": 23,
   "metadata": {},
   "outputs": [
    {
     "data": {
      "image/png": "[encoded data removed]",
      "text/plain": [
       "<Figure size 1200x300 with 5 Axes>"
      ]
     },
     "metadata": {},
     "output_type": "display_data"
    }
   ],
   "source": [
    "num_images = 5\n",
    "random_noise = tf.random.normal(shape=(num_images, latent_dim))\n",
    "generated_images = wgan.generator(random_noise)\n",
    "\n",
    "plt.figure(figsize=(12, 3))\n",
    "for i in range(num_images):\n",
    "    plt.subplot(1, num_images, i + 1)\n",
    "    plt.imshow(generated_images[i, :, :, :])\n",
    "    plt.axis(\"off\")\n",
    "\n",
    "plt.suptitle(\"Generated Images\")\n",
    "plt.show()"
   ]
  }
 ],
 "metadata": {
  "kernelspec": {
   "display_name": "tensorflow",
   "language": "python",
   "name": "python3"
  },
  "language_info": {
   "codemirror_mode": {
    "name": "ipython",
    "version": 3
   },
   "file_extension": ".py",
   "mimetype": "text/x-python",
   "name": "python",
   "nbconvert_exporter": "python",
   "pygments_lexer": "ipython3",
   "version": "3.10.8"
  },
  "orig_nbformat": 4
 },
 "nbformat": 4,
 "nbformat_minor": 2
}
