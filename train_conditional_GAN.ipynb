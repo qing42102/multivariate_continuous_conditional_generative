{
 "cells": [
  {
   "cell_type": "code",
   "execution_count": 1,
   "metadata": {},
   "outputs": [
    {
     "name": "stderr",
     "output_type": "stream",
     "text": [
      "2023-07-07 01:36:38.071141: I tensorflow/core/platform/cpu_feature_guard.cc:193] This TensorFlow binary is optimized with oneAPI Deep Neural Network Library (oneDNN) to use the following CPU instructions in performance-critical operations:  SSE4.1 SSE4.2 AVX AVX2 AVX512F AVX512_VNNI FMA\n",
      "To enable them in other operations, rebuild TensorFlow with the appropriate compiler flags.\n",
      "2023-07-07 01:36:38.169024: I tensorflow/core/util/util.cc:169] oneDNN custom operations are on. You may see slightly different numerical results due to floating-point round-off errors from different computation orders. To turn them off, set the environment variable `TF_ENABLE_ONEDNN_OPTS=0`.\n"
     ]
    }
   ],
   "source": [
    "import tensorflow as tf\n",
    "import keras.api._v2.keras as keras\n",
    "from keras import mixed_precision\n",
    "import numpy as np\n",
    "import matplotlib.pyplot as plt\n",
    "from conditional_GAN import WGAN, Generator, Discriminator"
   ]
  },
  {
   "cell_type": "code",
   "execution_count": 2,
   "metadata": {},
   "outputs": [
    {
     "name": "stdout",
     "output_type": "stream",
     "text": [
      "[PhysicalDevice(name='/physical_device:GPU:0', device_type='GPU'), PhysicalDevice(name='/physical_device:GPU:1', device_type='GPU')]\n"
     ]
    }
   ],
   "source": [
    "gpus = tf.config.list_physical_devices(\"GPU\")\n",
    "print(gpus)\n",
    "\n",
    "for gpu in gpus:\n",
    "    tf.config.experimental.set_memory_growth(gpu, True)\n",
    "\n",
    "# mirrored_strategy = tf.distribute.MirroredStrategy()\n",
    "\n",
    "# mixed_precision.set_global_policy('mixed_float16')"
   ]
  },
  {
   "cell_type": "code",
   "execution_count": 3,
   "metadata": {},
   "outputs": [
    {
     "name": "stderr",
     "output_type": "stream",
     "text": [
      "2023-07-07 01:36:40.211737: I tensorflow/core/platform/cpu_feature_guard.cc:193] This TensorFlow binary is optimized with oneAPI Deep Neural Network Library (oneDNN) to use the following CPU instructions in performance-critical operations:  SSE4.1 SSE4.2 AVX AVX2 AVX512F AVX512_VNNI FMA\n",
      "To enable them in other operations, rebuild TensorFlow with the appropriate compiler flags.\n",
      "2023-07-07 01:36:40.669787: I tensorflow/core/common_runtime/gpu/gpu_device.cc:1616] Created device /job:localhost/replica:0/task:0/device:GPU:0 with 37666 MB memory:  -> device: 0, name: NVIDIA A100-PCIE-40GB, pci bus id: 0000:3b:00.0, compute capability: 8.0\n",
      "2023-07-07 01:36:40.671510: I tensorflow/core/common_runtime/gpu/gpu_device.cc:1616] Created device /job:localhost/replica:0/task:0/device:GPU:1 with 37274 MB memory:  -> device: 1, name: NVIDIA A100-PCIE-40GB, pci bus id: 0000:d8:00.0, compute capability: 8.0\n"
     ]
    },
    {
     "name": "stdout",
     "output_type": "stream",
     "text": [
      "(60000, 28, 28, 3) (10000, 28, 28, 3)\n",
      "(60000, 7) (10000, 7)\n"
     ]
    }
   ],
   "source": [
    "path = \"cmnist/fgbg_cmnist_cpr0.5-0.5/\"\n",
    "mnist_train = tf.convert_to_tensor(np.load(path + \"colored_mnist_init_train.npy\"))\n",
    "mnist_test = tf.convert_to_tensor(np.load(path + \"colored_mnist_init_test.npy\"))\n",
    "mnist_train_target = tf.convert_to_tensor(\n",
    "    np.load(path + \"colored_mnist_target_train.npy\")\n",
    ")\n",
    "mnist_test_target = tf.convert_to_tensor(\n",
    "    np.load(path + \"colored_mnist_target_test.npy\")\n",
    ")\n",
    "\n",
    "mnist_train = tf.transpose(mnist_train, [0, 2, 3, 1])\n",
    "mnist_test = tf.transpose(mnist_test, [0, 2, 3, 1])\n",
    "\n",
    "print(mnist_train.shape, mnist_test.shape)\n",
    "print(mnist_train_target.shape, mnist_test_target.shape)\n",
    "\n",
    "train_data = tf.data.Dataset.from_tensor_slices((mnist_train, mnist_train_target))\n",
    "\n",
    "batch_size = 128\n",
    "train_data = train_data.shuffle(10000).batch(batch_size)"
   ]
  },
  {
   "cell_type": "code",
   "execution_count": 4,
   "metadata": {},
   "outputs": [
    {
     "data": {
      "image/png": "[encoded data removed]",
      "text/plain": [
       "<Figure size 640x480 with 1 Axes>"
      ]
     },
     "metadata": {},
     "output_type": "display_data"
    }
   ],
   "source": [
    "plt.figure(1)\n",
    "plt.imshow(mnist_train[0, :, :, :])\n",
    "plt.axis(\"off\")\n",
    "plt.show()"
   ]
  },
  {
   "cell_type": "code",
   "execution_count": 6,
   "metadata": {},
   "outputs": [
    {
     "name": "stdout",
     "output_type": "stream",
     "text": [
      "Model: \"discriminator\"\n",
      "_________________________________________________________________\n",
      " Layer (type)                Output Shape              Param #   \n",
      "=================================================================\n",
      " conv2d (Conv2D)             (None, 14, 14, 64)        4160      \n",
      "                                                                 \n",
      " leaky_re_lu (LeakyReLU)     (None, 14, 14, 64)        0         \n",
      "                                                                 \n",
      " conv2d_1 (Conv2D)           (None, 7, 7, 128)         131200    \n",
      "                                                                 \n",
      " leaky_re_lu_1 (LeakyReLU)   (None, 7, 7, 128)         0         \n",
      "                                                                 \n",
      " conv2d_2 (Conv2D)           (None, 4, 4, 256)         524544    \n",
      "                                                                 \n",
      " leaky_re_lu_2 (LeakyReLU)   (None, 4, 4, 256)         0         \n",
      "                                                                 \n",
      " conv2d_3 (Conv2D)           (None, 2, 2, 512)         2097664   \n",
      "                                                                 \n",
      " leaky_re_lu_3 (LeakyReLU)   (None, 2, 2, 512)         0         \n",
      "                                                                 \n",
      " flatten (Flatten)           (None, 2048)              0         \n",
      "                                                                 \n",
      " dropout (Dropout)           (None, 2048)              0         \n",
      "                                                                 \n",
      " dense_1 (Dense)             (None, 1)                 2049      \n",
      "                                                                 \n",
      "=================================================================\n",
      "Total params: 2,759,617\n",
      "Trainable params: 2,759,617\n",
      "Non-trainable params: 0\n",
      "_________________________________________________________________\n"
     ]
    }
   ],
   "source": [
    "discriminator = Discriminator(\n",
    "    shape=mnist_train.shape[1:], label_dim=mnist_train_target.shape[1]\n",
    ")\n",
    "discriminator.model.summary()"
   ]
  },
  {
   "cell_type": "code",
   "execution_count": 7,
   "metadata": {},
   "outputs": [
    {
     "name": "stdout",
     "output_type": "stream",
     "text": [
      "Model: \"generator\"\n",
      "_________________________________________________________________\n",
      " Layer (type)                Output Shape              Param #   \n",
      "=================================================================\n",
      " dense_2 (Dense)             (None, 1024)              139264    \n",
      "                                                                 \n",
      " batch_normalization (BatchN  (None, 1024)             4096      \n",
      " ormalization)                                                   \n",
      "                                                                 \n",
      " leaky_re_lu_4 (LeakyReLU)   (None, 1024)              0         \n",
      "                                                                 \n",
      " reshape_1 (Reshape)         (None, 2, 2, 256)         0         \n",
      "                                                                 \n",
      " up_sampling2d (UpSampling2D  (None, 4, 4, 256)        0         \n",
      " )                                                               \n",
      "                                                                 \n",
      " conv2d_4 (Conv2D)           (None, 4, 4, 256)         590080    \n",
      "                                                                 \n",
      " batch_normalization_1 (Batc  (None, 4, 4, 256)        1024      \n",
      " hNormalization)                                                 \n",
      "                                                                 \n",
      " leaky_re_lu_5 (LeakyReLU)   (None, 4, 4, 256)         0         \n",
      "                                                                 \n",
      " up_sampling2d_1 (UpSampling  (None, 8, 8, 256)        0         \n",
      " 2D)                                                             \n",
      "                                                                 \n",
      " conv2d_5 (Conv2D)           (None, 8, 8, 128)         295040    \n",
      "                                                                 \n",
      " batch_normalization_2 (Batc  (None, 8, 8, 128)        512       \n",
      " hNormalization)                                                 \n",
      "                                                                 \n",
      " leaky_re_lu_6 (LeakyReLU)   (None, 8, 8, 128)         0         \n",
      "                                                                 \n",
      " up_sampling2d_2 (UpSampling  (None, 16, 16, 128)      0         \n",
      " 2D)                                                             \n",
      "                                                                 \n",
      " conv2d_6 (Conv2D)           (None, 14, 14, 64)        73792     \n",
      "                                                                 \n",
      " batch_normalization_3 (Batc  (None, 14, 14, 64)       256       \n",
      " hNormalization)                                                 \n",
      "                                                                 \n",
      " leaky_re_lu_7 (LeakyReLU)   (None, 14, 14, 64)        0         \n",
      "                                                                 \n",
      " up_sampling2d_3 (UpSampling  (None, 28, 28, 64)       0         \n",
      " 2D)                                                             \n",
      "                                                                 \n",
      " conv2d_7 (Conv2D)           (None, 28, 28, 3)         1731      \n",
      "                                                                 \n",
      "=================================================================\n",
      "Total params: 1,105,795\n",
      "Trainable params: 1,102,851\n",
      "Non-trainable params: 2,944\n",
      "_________________________________________________________________\n"
     ]
    }
   ],
   "source": [
    "latent_dim = 128\n",
    "\n",
    "generator = Generator(latent_dim=latent_dim, label_dim=mnist_train_target.shape[1])\n",
    "generator.model.summary()"
   ]
  },
  {
   "cell_type": "code",
   "execution_count": 8,
   "metadata": {},
   "outputs": [],
   "source": [
    "# Define the loss functions for the discriminator,\n",
    "# which should be (fake_loss - real_loss).\n",
    "# We will add the gradient penalty later to this loss function.\n",
    "def discriminator_loss(real_img: tf.Tensor, fake_img: tf.Tensor):\n",
    "    real_loss = tf.reduce_mean(real_img)\n",
    "    fake_loss = tf.reduce_mean(fake_img)\n",
    "    return fake_loss - real_loss\n",
    "\n",
    "\n",
    "# Define the loss functions for the generator.\n",
    "def generator_loss(fake_img: tf.Tensor):\n",
    "    return -tf.reduce_mean(fake_img)"
   ]
  },
  {
   "cell_type": "code",
   "execution_count": 9,
   "metadata": {},
   "outputs": [
    {
     "name": "stdout",
     "output_type": "stream",
     "text": [
      "Epoch 1/50\n"
     ]
    },
    {
     "name": "stderr",
     "output_type": "stream",
     "text": [
      "2023-07-07 01:37:24.673314: I tensorflow/stream_executor/cuda/cuda_blas.cc:1614] TensorFloat-32 will be used for the matrix multiplication. This will only be logged once.\n",
      "2023-07-07 01:37:24.705000: I tensorflow/stream_executor/cuda/cuda_dnn.cc:384] Loaded cuDNN version 8800\n"
     ]
    },
    {
     "name": "stdout",
     "output_type": "stream",
     "text": [
      "469/469 [==============================] - 38s 64ms/step - d_loss: -6.6589 - g_loss: -4.0649\n",
      "Epoch 2/50\n",
      "469/469 [==============================] - 29s 63ms/step - d_loss: -5.1426 - g_loss: -2.5944\n",
      "Epoch 3/50\n",
      "469/469 [==============================] - 29s 62ms/step - d_loss: -4.6811 - g_loss: -2.6425\n",
      "Epoch 4/50\n",
      "469/469 [==============================] - 28s 60ms/step - d_loss: -4.3348 - g_loss: -2.7211\n",
      "Epoch 5/50\n",
      "469/469 [==============================] - 29s 62ms/step - d_loss: -4.0989 - g_loss: -1.1675\n",
      "Epoch 6/50\n",
      "469/469 [==============================] - 29s 61ms/step - d_loss: -3.7973 - g_loss: -2.6369\n",
      "Epoch 7/50\n",
      "469/469 [==============================] - 29s 62ms/step - d_loss: -3.6680 - g_loss: -1.8281\n",
      "Epoch 8/50\n",
      "469/469 [==============================] - 28s 61ms/step - d_loss: -3.4526 - g_loss: -0.3315\n",
      "Epoch 9/50\n",
      "469/469 [==============================] - 29s 62ms/step - d_loss: -3.1850 - g_loss: -2.1599\n",
      "Epoch 10/50\n",
      "469/469 [==============================] - 29s 61ms/step - d_loss: -3.1870 - g_loss: -3.1041\n",
      "Epoch 11/50\n",
      "469/469 [==============================] - 30s 63ms/step - d_loss: -3.1453 - g_loss: -2.8285\n",
      "Epoch 12/50\n",
      "469/469 [==============================] - 29s 63ms/step - d_loss: -3.0230 - g_loss: -1.4094\n",
      "Epoch 13/50\n",
      "469/469 [==============================] - 29s 62ms/step - d_loss: -2.9412 - g_loss: -0.8404\n",
      "Epoch 14/50\n",
      "469/469 [==============================] - 29s 62ms/step - d_loss: -2.8088 - g_loss: -0.7411\n",
      "Epoch 15/50\n",
      "469/469 [==============================] - 28s 60ms/step - d_loss: -2.7820 - g_loss: -1.3712\n",
      "Epoch 16/50\n",
      "469/469 [==============================] - 30s 63ms/step - d_loss: -2.7068 - g_loss: -2.3452\n",
      "Epoch 17/50\n",
      "469/469 [==============================] - 29s 62ms/step - d_loss: -2.6660 - g_loss: -2.5258\n",
      "Epoch 18/50\n",
      "469/469 [==============================] - 29s 62ms/step - d_loss: -2.6126 - g_loss: -1.9120\n",
      "Epoch 19/50\n",
      "469/469 [==============================] - 30s 63ms/step - d_loss: -2.5668 - g_loss: -3.0530\n",
      "Epoch 20/50\n",
      "469/469 [==============================] - 29s 61ms/step - d_loss: -2.5404 - g_loss: -2.6833\n",
      "Epoch 21/50\n",
      "469/469 [==============================] - 29s 61ms/step - d_loss: -2.4759 - g_loss: -3.4260\n",
      "Epoch 22/50\n",
      "469/469 [==============================] - 29s 63ms/step - d_loss: -2.4855 - g_loss: -3.9987\n",
      "Epoch 23/50\n",
      "469/469 [==============================] - 30s 64ms/step - d_loss: -2.4683 - g_loss: -3.9881\n",
      "Epoch 24/50\n",
      "469/469 [==============================] - 29s 62ms/step - d_loss: -2.4145 - g_loss: -3.8181\n",
      "Epoch 25/50\n",
      "469/469 [==============================] - 30s 63ms/step - d_loss: -2.3641 - g_loss: -3.5634\n",
      "Epoch 26/50\n",
      "469/469 [==============================] - 29s 62ms/step - d_loss: -2.4334 - g_loss: -3.2683\n",
      "Epoch 27/50\n",
      "469/469 [==============================] - 28s 61ms/step - d_loss: -2.3257 - g_loss: -2.6096\n",
      "Epoch 28/50\n",
      "469/469 [==============================] - 29s 62ms/step - d_loss: -2.3432 - g_loss: -3.5764\n",
      "Epoch 29/50\n",
      "469/469 [==============================] - 29s 62ms/step - d_loss: -2.3149 - g_loss: -4.2211\n",
      "Epoch 30/50\n",
      "469/469 [==============================] - 29s 63ms/step - d_loss: -2.3076 - g_loss: -3.0458\n",
      "Epoch 31/50\n",
      "469/469 [==============================] - 28s 61ms/step - d_loss: -2.3036 - g_loss: -3.4945\n",
      "Epoch 32/50\n",
      "469/469 [==============================] - 29s 62ms/step - d_loss: -2.2774 - g_loss: -3.5610\n",
      "Epoch 33/50\n",
      "469/469 [==============================] - 29s 62ms/step - d_loss: -2.2871 - g_loss: -3.4614\n",
      "Epoch 34/50\n",
      "469/469 [==============================] - 29s 62ms/step - d_loss: -2.2567 - g_loss: -4.3125\n",
      "Epoch 35/50\n",
      "469/469 [==============================] - 30s 63ms/step - d_loss: -2.2553 - g_loss: -4.8457\n",
      "Epoch 36/50\n",
      "469/469 [==============================] - 29s 62ms/step - d_loss: -2.2729 - g_loss: -4.8585\n",
      "Epoch 37/50\n",
      "469/469 [==============================] - 29s 62ms/step - d_loss: -2.2340 - g_loss: -4.2128\n",
      "Epoch 38/50\n",
      "469/469 [==============================] - 29s 61ms/step - d_loss: -2.2602 - g_loss: -4.7459\n",
      "Epoch 39/50\n",
      "469/469 [==============================] - 29s 62ms/step - d_loss: -2.2272 - g_loss: -4.4924\n",
      "Epoch 40/50\n",
      "469/469 [==============================] - 29s 63ms/step - d_loss: -2.1764 - g_loss: -5.2337\n",
      "Epoch 41/50\n",
      "469/469 [==============================] - 29s 62ms/step - d_loss: -2.1614 - g_loss: -4.4101\n",
      "Epoch 42/50\n",
      "469/469 [==============================] - 29s 62ms/step - d_loss: -2.1986 - g_loss: -4.4929\n",
      "Epoch 43/50\n",
      "469/469 [==============================] - 29s 62ms/step - d_loss: -2.1514 - g_loss: -3.9719\n",
      "Epoch 44/50\n",
      "469/469 [==============================] - 29s 62ms/step - d_loss: -2.1976 - g_loss: -4.2843\n",
      "Epoch 45/50\n",
      "469/469 [==============================] - 30s 63ms/step - d_loss: -2.2055 - g_loss: -4.1288\n",
      "Epoch 46/50\n",
      "469/469 [==============================] - 29s 62ms/step - d_loss: -2.1276 - g_loss: -5.6753\n",
      "Epoch 47/50\n",
      "469/469 [==============================] - 29s 62ms/step - d_loss: -2.1139 - g_loss: -6.4811\n",
      "Epoch 48/50\n",
      "469/469 [==============================] - 29s 62ms/step - d_loss: -2.1088 - g_loss: -5.9002\n",
      "Epoch 49/50\n",
      "469/469 [==============================] - 29s 62ms/step - d_loss: -2.1208 - g_loss: -5.8364\n",
      "Epoch 50/50\n",
      "469/469 [==============================] - 29s 61ms/step - d_loss: -2.1262 - g_loss: -6.5409\n"
     ]
    },
    {
     "data": {
      "text/plain": [
       "<keras.callbacks.History at 0x7f0e700f4d90>"
      ]
     },
     "execution_count": 9,
     "metadata": {},
     "output_type": "execute_result"
    }
   ],
   "source": [
    "# Instantiate the optimizer for both networks\n",
    "# (learning_rate=0.0002, beta_1=0.5 are recommended)\n",
    "generator_optimizer = keras.optimizers.Adam(\n",
    "    learning_rate=0.0002, beta_1=0.5, beta_2=0.9\n",
    ")\n",
    "discriminator_optimizer = keras.optimizers.Adam(\n",
    "    learning_rate=0.0002, beta_1=0.5, beta_2=0.9\n",
    ")\n",
    "\n",
    "wgan = WGAN(\n",
    "    discriminator=discriminator,\n",
    "    generator=generator,\n",
    "    latent_dim=latent_dim,\n",
    "    discriminator_extra_steps=5,\n",
    ")\n",
    "\n",
    "wgan.compile(\n",
    "    d_optimizer=discriminator_optimizer,\n",
    "    g_optimizer=generator_optimizer,\n",
    "    g_loss_fn=generator_loss,\n",
    "    d_loss_fn=discriminator_loss,\n",
    ")\n",
    "\n",
    "epochs = 50\n",
    "wgan.fit(train_data, epochs=epochs)"
   ]
  },
  {
   "cell_type": "code",
   "execution_count": 52,
   "metadata": {},
   "outputs": [
    {
     "data": {
      "image/png": "[encoded data removed]",
      "text/plain": [
       "<Figure size 1200x300 with 5 Axes>"
      ]
     },
     "metadata": {},
     "output_type": "display_data"
    }
   ],
   "source": [
    "num_images = 5\n",
    "random_noise = tf.random.normal(shape=(num_images, latent_dim))\n",
    "generated_images = wgan.generator(\n",
    "    random_noise, mnist_test_target[:num_images], training=False\n",
    ")\n",
    "\n",
    "plt.figure(figsize=(12, 3))\n",
    "for i in range(num_images):\n",
    "    plt.subplot(1, num_images, i + 1)\n",
    "    plt.imshow(generated_images[i, :, :, :])\n",
    "    plt.axis(\"off\")\n",
    "\n",
    "plt.suptitle(\"Generated Images\")\n",
    "plt.show()"
   ]
  }
 ],
 "metadata": {
  "kernelspec": {
   "display_name": "tensorflow",
   "language": "python",
   "name": "python3"
  },
  "language_info": {
   "codemirror_mode": {
    "name": "ipython",
    "version": 3
   },
   "file_extension": ".py",
   "mimetype": "text/x-python",
   "name": "python",
   "nbconvert_exporter": "python",
   "pygments_lexer": "ipython3",
   "version": "3.10.8"
  },
  "orig_nbformat": 4
 },
 "nbformat": 4,
 "nbformat_minor": 2
}
