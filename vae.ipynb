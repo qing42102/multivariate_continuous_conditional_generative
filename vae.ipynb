{
 "cells": [
  {
   "cell_type": "code",
   "execution_count": 1,
   "metadata": {},
   "outputs": [],
   "source": [
    "import torch\n",
    "from torch.utils.data import TensorDataset, DataLoader\n",
    "from torch import optim\n",
    "import numpy as np\n",
    "import matplotlib.pyplot as plt\n",
    "from conditional_VAE import conditional_VAE, loss_function"
   ]
  },
  {
   "cell_type": "code",
   "execution_count": 2,
   "metadata": {},
   "outputs": [],
   "source": [
    "path = \"/workspace/qing/mnist/cmnist/fgbg_cmnist_cpr0.5-0.5/\"\n",
    "mnist_train = torch.from_numpy(np.load(path + \"colored_mnist_init_train.npy\"))\n",
    "mnist_test = torch.from_numpy(np.load(path + \"colored_mnist_init_test.npy\"))\n",
    "mnist_train_target = torch.from_numpy(np.load(path + \"colored_mnist_target_train.npy\"))\n",
    "mnist_test_target = torch.from_numpy(np.load(path + \"colored_mnist_target_test.npy\"))\n",
    "\n",
    "batch_size = 128\n",
    "train_dataset = TensorDataset(mnist_train, mnist_train_target)\n",
    "train_loader = DataLoader(train_dataset, batch_size=batch_size)\n",
    "test_dataset = TensorDataset(mnist_test, mnist_test_target)\n",
    "test_loader = DataLoader(test_dataset, batch_size=batch_size)\n",
    "\n",
    "device = torch.device(\"cuda\" if torch.cuda.is_available() else \"cpu\")"
   ]
  },
  {
   "cell_type": "code",
   "execution_count": 3,
   "metadata": {},
   "outputs": [
    {
     "name": "stdout",
     "output_type": "stream",
     "text": [
      "torch.Size([60000, 3, 28, 28]) torch.Size([10000, 3, 28, 28])\n",
      "torch.Size([60000, 7]) torch.Size([10000, 7])\n"
     ]
    }
   ],
   "source": [
    "print(mnist_train.shape, mnist_test.shape)\n",
    "print(mnist_train_target.shape, mnist_test_target.shape)"
   ]
  },
  {
   "cell_type": "code",
   "execution_count": 95,
   "metadata": {},
   "outputs": [
    {
     "data": {
      "image/png": "[encoded data removed]",
      "text/plain": [
       "<Figure size 640x480 with 1 Axes>"
      ]
     },
     "metadata": {},
     "output_type": "display_data"
    }
   ],
   "source": [
    "plt.imshow(mnist_train[4].permute(1, 2, 0))\n",
    "plt.show()"
   ]
  },
  {
   "cell_type": "code",
   "execution_count": 5,
   "metadata": {},
   "outputs": [
    {
     "name": "stdout",
     "output_type": "stream",
     "text": [
      "Selected device: cuda\n"
     ]
    }
   ],
   "source": [
    "torch.manual_seed(0)\n",
    "\n",
    "device = torch.device(\"cuda\") if torch.cuda.is_available() else torch.device(\"cpu\")\n",
    "print(f\"Selected device: {device}\")\n",
    "\n",
    "vae = conditional_VAE(shape=(3, 28, 28), latent_dim=128, conditional_dim=7)\n",
    "vae.to(device)\n",
    "\n",
    "optimizer = optim.Adam(vae.parameters(), lr=1e-3)"
   ]
  },
  {
   "cell_type": "code",
   "execution_count": 6,
   "metadata": {},
   "outputs": [],
   "source": [
    "def train_epoch(\n",
    "    vae: conditional_VAE,\n",
    "    device: torch.device,\n",
    "    dataloader: DataLoader,\n",
    "    optimizer: optim.Optimizer,\n",
    "):\n",
    "    train_loss = 0.0\n",
    "    for x, y in dataloader:\n",
    "        x = x.to(device)\n",
    "        y = y.to(device)\n",
    "\n",
    "        x_hat, mean, logvar = vae(x, y)\n",
    "        loss = loss_function(x, x_hat, mean, logvar)\n",
    "\n",
    "        optimizer.zero_grad()\n",
    "        loss.backward()\n",
    "        optimizer.step()\n",
    "\n",
    "        train_loss += loss.item()\n",
    "\n",
    "    return train_loss / len(dataloader.dataset)\n",
    "\n",
    "\n",
    "def test_epoch(vae: conditional_VAE, device: torch.device, dataloader: DataLoader):\n",
    "    val_loss = 0.0\n",
    "    with torch.no_grad():\n",
    "        for x, y in dataloader:\n",
    "            x = x.to(device)\n",
    "            y = y.to(device)\n",
    "\n",
    "            x_hat, mean, logvar = vae(x, y)\n",
    "            loss = loss_function(x, x_hat, mean, logvar)\n",
    "\n",
    "            val_loss += loss.item()\n",
    "\n",
    "    return val_loss / len(dataloader.dataset)"
   ]
  },
  {
   "cell_type": "code",
   "execution_count": 80,
   "metadata": {},
   "outputs": [
    {
     "name": "stdout",
     "output_type": "stream",
     "text": [
      "\n",
      " EPOCH 1/20 \t train loss 21.470 \t val loss 81.612\n",
      "\n",
      " EPOCH 2/20 \t train loss 20.833 \t val loss 84.289\n",
      "\n",
      " EPOCH 3/20 \t train loss 20.241 \t val loss 82.875\n",
      "\n",
      " EPOCH 4/20 \t train loss 19.795 \t val loss 81.793\n",
      "\n",
      " EPOCH 5/20 \t train loss 19.402 \t val loss 82.620\n",
      "\n",
      " EPOCH 6/20 \t train loss 19.018 \t val loss 82.436\n",
      "\n",
      " EPOCH 7/20 \t train loss 18.682 \t val loss 81.024\n",
      "\n",
      " EPOCH 8/20 \t train loss 18.415 \t val loss 82.865\n",
      "\n",
      " EPOCH 9/20 \t train loss 18.178 \t val loss 81.378\n",
      "\n",
      " EPOCH 10/20 \t train loss 17.929 \t val loss 78.667\n",
      "\n",
      " EPOCH 11/20 \t train loss 17.623 \t val loss 78.959\n",
      "\n",
      " EPOCH 12/20 \t train loss 17.431 \t val loss 77.904\n",
      "\n",
      " EPOCH 13/20 \t train loss 17.279 \t val loss 79.081\n",
      "\n",
      " EPOCH 14/20 \t train loss 17.078 \t val loss 79.251\n",
      "\n",
      " EPOCH 15/20 \t train loss 16.926 \t val loss 76.145\n",
      "\n",
      " EPOCH 16/20 \t train loss 16.789 \t val loss 76.892\n",
      "\n",
      " EPOCH 17/20 \t train loss 16.666 \t val loss 76.444\n",
      "\n",
      " EPOCH 18/20 \t train loss 16.551 \t val loss 75.962\n",
      "\n",
      " EPOCH 19/20 \t train loss 16.436 \t val loss 76.817\n",
      "\n",
      " EPOCH 20/20 \t train loss 16.349 \t val loss 76.084\n"
     ]
    }
   ],
   "source": [
    "num_epochs = 20\n",
    "\n",
    "for epoch in range(num_epochs):\n",
    "    train_loss = train_epoch(vae, device, train_loader, optimizer)\n",
    "    val_loss = test_epoch(vae, device, test_loader)\n",
    "    print(\n",
    "        \"\\n EPOCH {}/{} \\t train loss {:.3f} \\t val loss {:.3f}\".format(\n",
    "            epoch + 1, num_epochs, train_loss, val_loss\n",
    "        )\n",
    "    )"
   ]
  },
  {
   "cell_type": "code",
   "execution_count": 94,
   "metadata": {},
   "outputs": [
    {
     "data": {
      "image/png": "[encoded data removed]",
      "text/plain": [
       "<Figure size 640x480 with 1 Axes>"
      ]
     },
     "metadata": {},
     "output_type": "display_data"
    }
   ],
   "source": [
    "with torch.no_grad():\n",
    "    reconstructed_image = vae(\n",
    "        mnist_train[4, :, :, :].unsqueeze(0).to(device),\n",
    "        mnist_train_target[4, :].unsqueeze(0).to(device),\n",
    "    )[0]\n",
    "    plt.imshow(reconstructed_image.cpu().squeeze().permute(1, 2, 0))"
   ]
  },
  {
   "cell_type": "code",
   "execution_count": 59,
   "metadata": {},
   "outputs": [
    {
     "data": {
      "image/png": "[encoded data removed]",
      "text/plain": [
       "<Figure size 640x480 with 1 Axes>"
      ]
     },
     "metadata": {},
     "output_type": "display_data"
    }
   ],
   "source": [
    "with torch.no_grad():\n",
    "    condition = mnist_train_target[3, :]\n",
    "    condition[0] = 5\n",
    "    generated_image = vae.generate(condition.unsqueeze(0).to(device))\n",
    "    plt.imshow(generated_image.cpu().squeeze().permute(1, 2, 0))"
   ]
  }
 ],
 "metadata": {
  "kernelspec": {
   "display_name": "Python 3.10.6 ('data_science': conda)",
   "language": "python",
   "name": "python3"
  },
  "language_info": {
   "codemirror_mode": {
    "name": "ipython",
    "version": 3
   },
   "file_extension": ".py",
   "mimetype": "text/x-python",
   "name": "python",
   "nbconvert_exporter": "python",
   "pygments_lexer": "ipython3",
   "version": "3.10.6"
  },
  "orig_nbformat": 4,
  "vscode": {
   "interpreter": {
    "hash": "ba7e902c35bd8f2f95c9d37e312ade41cd05fffed1f3affa2cb41f80e908cfa4"
   }
  }
 },
 "nbformat": 4,
 "nbformat_minor": 2
}
